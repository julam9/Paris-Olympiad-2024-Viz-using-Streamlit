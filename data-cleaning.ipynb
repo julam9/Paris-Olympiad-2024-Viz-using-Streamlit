{
 "cells": [
  {
   "cell_type": "code",
   "execution_count": 55,
   "metadata": {},
   "outputs": [],
   "source": [
    "import pandas as pd\n",
    "import matplotlib.pyplot as plt\n",
    "import numpy as np"
   ]
  },
  {
   "cell_type": "markdown",
   "metadata": {},
   "source": [
    "## Athletes dataset"
   ]
  },
  {
   "cell_type": "code",
   "execution_count": 2,
   "metadata": {},
   "outputs": [
    {
     "data": {
      "text/html": [
       "<div>\n",
       "<style scoped>\n",
       "    .dataframe tbody tr th:only-of-type {\n",
       "        vertical-align: middle;\n",
       "    }\n",
       "\n",
       "    .dataframe tbody tr th {\n",
       "        vertical-align: top;\n",
       "    }\n",
       "\n",
       "    .dataframe thead th {\n",
       "        text-align: right;\n",
       "    }\n",
       "</style>\n",
       "<table border=\"1\" class=\"dataframe\">\n",
       "  <thead>\n",
       "    <tr style=\"text-align: right;\">\n",
       "      <th></th>\n",
       "      <th>code</th>\n",
       "      <th>current</th>\n",
       "      <th>name</th>\n",
       "      <th>name_short</th>\n",
       "      <th>name_tv</th>\n",
       "      <th>gender</th>\n",
       "      <th>function</th>\n",
       "      <th>country_code</th>\n",
       "      <th>country</th>\n",
       "      <th>country_long</th>\n",
       "      <th>...</th>\n",
       "      <th>family</th>\n",
       "      <th>lang</th>\n",
       "      <th>coach</th>\n",
       "      <th>reason</th>\n",
       "      <th>hero</th>\n",
       "      <th>influence</th>\n",
       "      <th>philosophy</th>\n",
       "      <th>sporting_relatives</th>\n",
       "      <th>ritual</th>\n",
       "      <th>other_sports</th>\n",
       "    </tr>\n",
       "  </thead>\n",
       "  <tbody>\n",
       "    <tr>\n",
       "      <th>0</th>\n",
       "      <td>1532872</td>\n",
       "      <td>True</td>\n",
       "      <td>ALEKSANYAN Artur</td>\n",
       "      <td>ALEKSANYAN A</td>\n",
       "      <td>Artur ALEKSANYAN</td>\n",
       "      <td>Male</td>\n",
       "      <td>Athlete</td>\n",
       "      <td>ARM</td>\n",
       "      <td>Armenia</td>\n",
       "      <td>Armenia</td>\n",
       "      <td>...</td>\n",
       "      <td>Father, Gevorg Aleksanyan</td>\n",
       "      <td>Armenian, English, Russian</td>\n",
       "      <td>Gevorg Aleksanyan (ARM), father</td>\n",
       "      <td>He followed his father and his uncle into the ...</td>\n",
       "      <td>Footballer Zinedine Zidane (FRA), World Cup wi...</td>\n",
       "      <td>His father, Gevorg Aleksanyan</td>\n",
       "      <td>\"Wrestling is my life.\" (mediamax.am. 18 May 2...</td>\n",
       "      <td>NaN</td>\n",
       "      <td>NaN</td>\n",
       "      <td>NaN</td>\n",
       "    </tr>\n",
       "    <tr>\n",
       "      <th>1</th>\n",
       "      <td>1532873</td>\n",
       "      <td>True</td>\n",
       "      <td>AMOYAN Malkhas</td>\n",
       "      <td>AMOYAN M</td>\n",
       "      <td>Malkhas AMOYAN</td>\n",
       "      <td>Male</td>\n",
       "      <td>Athlete</td>\n",
       "      <td>ARM</td>\n",
       "      <td>Armenia</td>\n",
       "      <td>Armenia</td>\n",
       "      <td>...</td>\n",
       "      <td>NaN</td>\n",
       "      <td>Armenian</td>\n",
       "      <td>NaN</td>\n",
       "      <td>NaN</td>\n",
       "      <td>NaN</td>\n",
       "      <td>NaN</td>\n",
       "      <td>\"To become a good athlete, you first have to b...</td>\n",
       "      <td>Uncle, Roman Amoyan (wrestling), 2008 Olympic ...</td>\n",
       "      <td>NaN</td>\n",
       "      <td>NaN</td>\n",
       "    </tr>\n",
       "    <tr>\n",
       "      <th>2</th>\n",
       "      <td>1532874</td>\n",
       "      <td>True</td>\n",
       "      <td>GALSTYAN Slavik</td>\n",
       "      <td>GALSTYAN S</td>\n",
       "      <td>Slavik GALSTYAN</td>\n",
       "      <td>Male</td>\n",
       "      <td>Athlete</td>\n",
       "      <td>ARM</td>\n",
       "      <td>Armenia</td>\n",
       "      <td>Armenia</td>\n",
       "      <td>...</td>\n",
       "      <td>NaN</td>\n",
       "      <td>Armenian</td>\n",
       "      <td>Personal: Martin Alekhanyan (ARM).&lt;br&gt;National...</td>\n",
       "      <td>NaN</td>\n",
       "      <td>NaN</td>\n",
       "      <td>NaN</td>\n",
       "      <td>NaN</td>\n",
       "      <td>NaN</td>\n",
       "      <td>NaN</td>\n",
       "      <td>NaN</td>\n",
       "    </tr>\n",
       "    <tr>\n",
       "      <th>3</th>\n",
       "      <td>1532944</td>\n",
       "      <td>True</td>\n",
       "      <td>HARUTYUNYAN Arsen</td>\n",
       "      <td>HARUTYUNYAN A</td>\n",
       "      <td>Arsen HARUTYUNYAN</td>\n",
       "      <td>Male</td>\n",
       "      <td>Athlete</td>\n",
       "      <td>ARM</td>\n",
       "      <td>Armenia</td>\n",
       "      <td>Armenia</td>\n",
       "      <td>...</td>\n",
       "      <td>Wife, Diana (married October 2022). Daughter, ...</td>\n",
       "      <td>Armenian</td>\n",
       "      <td>National: Habetnak Kurghinyan</td>\n",
       "      <td>While doing karate he noticed wrestlers traini...</td>\n",
       "      <td>Wrestler Armen Nazaryan (ARM, BUL), two-time O...</td>\n",
       "      <td>NaN</td>\n",
       "      <td>“Nothing is impossible, set goals in front of ...</td>\n",
       "      <td>NaN</td>\n",
       "      <td>NaN</td>\n",
       "      <td>NaN</td>\n",
       "    </tr>\n",
       "    <tr>\n",
       "      <th>4</th>\n",
       "      <td>1532945</td>\n",
       "      <td>True</td>\n",
       "      <td>TEVANYAN Vazgen</td>\n",
       "      <td>TEVANYAN V</td>\n",
       "      <td>Vazgen TEVANYAN</td>\n",
       "      <td>Male</td>\n",
       "      <td>Athlete</td>\n",
       "      <td>ARM</td>\n",
       "      <td>Armenia</td>\n",
       "      <td>Armenia</td>\n",
       "      <td>...</td>\n",
       "      <td>Wife, Sona (married November 2023)</td>\n",
       "      <td>Armenian, Russian</td>\n",
       "      <td>National: Habetnak Kurghinyan (ARM)</td>\n",
       "      <td>“My family did not like wrestling very much. A...</td>\n",
       "      <td>NaN</td>\n",
       "      <td>NaN</td>\n",
       "      <td>NaN</td>\n",
       "      <td>NaN</td>\n",
       "      <td>NaN</td>\n",
       "      <td>NaN</td>\n",
       "    </tr>\n",
       "  </tbody>\n",
       "</table>\n",
       "<p>5 rows × 36 columns</p>\n",
       "</div>"
      ],
      "text/plain": [
       "      code  current               name     name_short            name_tv  \\\n",
       "0  1532872     True   ALEKSANYAN Artur   ALEKSANYAN A   Artur ALEKSANYAN   \n",
       "1  1532873     True     AMOYAN Malkhas       AMOYAN M     Malkhas AMOYAN   \n",
       "2  1532874     True    GALSTYAN Slavik     GALSTYAN S    Slavik GALSTYAN   \n",
       "3  1532944     True  HARUTYUNYAN Arsen  HARUTYUNYAN A  Arsen HARUTYUNYAN   \n",
       "4  1532945     True    TEVANYAN Vazgen     TEVANYAN V    Vazgen TEVANYAN   \n",
       "\n",
       "  gender function country_code  country country_long  ...  \\\n",
       "0   Male  Athlete          ARM  Armenia      Armenia  ...   \n",
       "1   Male  Athlete          ARM  Armenia      Armenia  ...   \n",
       "2   Male  Athlete          ARM  Armenia      Armenia  ...   \n",
       "3   Male  Athlete          ARM  Armenia      Armenia  ...   \n",
       "4   Male  Athlete          ARM  Armenia      Armenia  ...   \n",
       "\n",
       "                                              family  \\\n",
       "0                          Father, Gevorg Aleksanyan   \n",
       "1                                                NaN   \n",
       "2                                                NaN   \n",
       "3  Wife, Diana (married October 2022). Daughter, ...   \n",
       "4                 Wife, Sona (married November 2023)   \n",
       "\n",
       "                         lang  \\\n",
       "0  Armenian, English, Russian   \n",
       "1                    Armenian   \n",
       "2                    Armenian   \n",
       "3                    Armenian   \n",
       "4           Armenian, Russian   \n",
       "\n",
       "                                               coach  \\\n",
       "0                    Gevorg Aleksanyan (ARM), father   \n",
       "1                                                NaN   \n",
       "2  Personal: Martin Alekhanyan (ARM).<br>National...   \n",
       "3                      National: Habetnak Kurghinyan   \n",
       "4                National: Habetnak Kurghinyan (ARM)   \n",
       "\n",
       "                                              reason  \\\n",
       "0  He followed his father and his uncle into the ...   \n",
       "1                                                NaN   \n",
       "2                                                NaN   \n",
       "3  While doing karate he noticed wrestlers traini...   \n",
       "4  “My family did not like wrestling very much. A...   \n",
       "\n",
       "                                                hero  \\\n",
       "0  Footballer Zinedine Zidane (FRA), World Cup wi...   \n",
       "1                                                NaN   \n",
       "2                                                NaN   \n",
       "3  Wrestler Armen Nazaryan (ARM, BUL), two-time O...   \n",
       "4                                                NaN   \n",
       "\n",
       "                       influence  \\\n",
       "0  His father, Gevorg Aleksanyan   \n",
       "1                            NaN   \n",
       "2                            NaN   \n",
       "3                            NaN   \n",
       "4                            NaN   \n",
       "\n",
       "                                          philosophy  \\\n",
       "0  \"Wrestling is my life.\" (mediamax.am. 18 May 2...   \n",
       "1  \"To become a good athlete, you first have to b...   \n",
       "2                                                NaN   \n",
       "3  “Nothing is impossible, set goals in front of ...   \n",
       "4                                                NaN   \n",
       "\n",
       "                                  sporting_relatives ritual other_sports  \n",
       "0                                                NaN    NaN          NaN  \n",
       "1  Uncle, Roman Amoyan (wrestling), 2008 Olympic ...    NaN          NaN  \n",
       "2                                                NaN    NaN          NaN  \n",
       "3                                                NaN    NaN          NaN  \n",
       "4                                                NaN    NaN          NaN  \n",
       "\n",
       "[5 rows x 36 columns]"
      ]
     },
     "execution_count": 2,
     "metadata": {},
     "output_type": "execute_result"
    }
   ],
   "source": [
    "athletes_df = pd.read_csv(\"./data/athletes.csv\")\n",
    "athletes_df.head()"
   ]
  },
  {
   "cell_type": "code",
   "execution_count": 3,
   "metadata": {},
   "outputs": [
    {
     "name": "stdout",
     "output_type": "stream",
     "text": [
      "<class 'pandas.core.frame.DataFrame'>\n",
      "RangeIndex: 11113 entries, 0 to 11112\n",
      "Data columns (total 36 columns):\n",
      " #   Column              Non-Null Count  Dtype  \n",
      "---  ------              --------------  -----  \n",
      " 0   code                11113 non-null  int64  \n",
      " 1   current             11113 non-null  bool   \n",
      " 2   name                11113 non-null  object \n",
      " 3   name_short          11110 non-null  object \n",
      " 4   name_tv             11110 non-null  object \n",
      " 5   gender              11113 non-null  object \n",
      " 6   function            11113 non-null  object \n",
      " 7   country_code        11113 non-null  object \n",
      " 8   country             11113 non-null  object \n",
      " 9   country_long        11113 non-null  object \n",
      " 10  nationality         11110 non-null  object \n",
      " 11  nationality_long    11110 non-null  object \n",
      " 12  nationality_code    11110 non-null  object \n",
      " 13  height              11110 non-null  float64\n",
      " 14  weight              11108 non-null  float64\n",
      " 15  disciplines         11113 non-null  object \n",
      " 16  events              11113 non-null  object \n",
      " 17  birth_date          11113 non-null  object \n",
      " 18  birth_place         8727 non-null   object \n",
      " 19  birth_country       9475 non-null   object \n",
      " 20  residence_place     6804 non-null   object \n",
      " 21  residence_country   8288 non-null   object \n",
      " 22  nickname            2966 non-null   object \n",
      " 23  hobbies             4207 non-null   object \n",
      " 24  occupation          9584 non-null   object \n",
      " 25  education           5538 non-null   object \n",
      " 26  family              5561 non-null   object \n",
      " 27  lang                10605 non-null  object \n",
      " 28  coach               8222 non-null   object \n",
      " 29  reason              5846 non-null   object \n",
      " 30  hero                3315 non-null   object \n",
      " 31  influence           2155 non-null   object \n",
      " 32  philosophy          2783 non-null   object \n",
      " 33  sporting_relatives  2518 non-null   object \n",
      " 34  ritual              857 non-null    object \n",
      " 35  other_sports        1060 non-null   object \n",
      "dtypes: bool(1), float64(2), int64(1), object(32)\n",
      "memory usage: 3.0+ MB\n"
     ]
    }
   ],
   "source": [
    "athletes_df.info()"
   ]
  },
  {
   "cell_type": "code",
   "execution_count": null,
   "metadata": {},
   "outputs": [],
   "source": [
    "athletes_df = athletes_df.drop_duplicates()"
   ]
  },
  {
   "cell_type": "code",
   "execution_count": 4,
   "metadata": {},
   "outputs": [
    {
     "data": {
      "text/plain": [
       "current\n",
       "True     0.99973\n",
       "False    0.00027\n",
       "Name: proportion, dtype: float64"
      ]
     },
     "execution_count": 4,
     "metadata": {},
     "output_type": "execute_result"
    }
   ],
   "source": [
    "athletes_df.current.value_counts(normalize=True)"
   ]
  },
  {
   "cell_type": "code",
   "execution_count": 5,
   "metadata": {},
   "outputs": [
    {
     "data": {
      "text/plain": [
       "function\n",
       "Athlete              0.982993\n",
       "Alternate Athlete    0.017007\n",
       "Name: proportion, dtype: float64"
      ]
     },
     "execution_count": 5,
     "metadata": {},
     "output_type": "execute_result"
    }
   ],
   "source": [
    "athletes_df.function.value_counts(normalize=True)"
   ]
  },
  {
   "cell_type": "code",
   "execution_count": 6,
   "metadata": {},
   "outputs": [
    {
     "data": {
      "text/plain": [
       "disciplines\n",
       "['Athletics']                                0.181589\n",
       "['Swimming']                                 0.075227\n",
       "['Football']                                 0.049762\n",
       "['Rowing']                                   0.044362\n",
       "['Hockey']                                   0.037344\n",
       "['Handball']                                 0.034734\n",
       "['Judo']                                     0.034014\n",
       "['Shooting']                                 0.030775\n",
       "['Sailing']                                  0.029695\n",
       "['Rugby Sevens']                             0.028525\n",
       "['Volleyball']                               0.027985\n",
       "['Wrestling']                                0.026186\n",
       "['Basketball']                               0.025826\n",
       "['Water Polo']                               0.025736\n",
       "['Fencing']                                  0.023396\n",
       "['Boxing']                                   0.022316\n",
       "['Equestrian']                               0.021776\n",
       "['Canoe Sprint']                             0.021506\n",
       "['Cycling Track']                            0.020157\n",
       "['Artistic Gymnastics']                      0.017097\n",
       "['Tennis']                                   0.015837\n",
       "['Table Tennis']                             0.015747\n",
       "['Badminton']                                0.015747\n",
       "['Cycling Road']                             0.015657\n",
       "['Diving']                                   0.012148\n",
       "['Taekwondo']                                0.012058\n",
       "['Archery']                                  0.011518\n",
       "['Weightlifting']                            0.010978\n",
       "['Golf']                                     0.010798\n",
       "['Triathlon']                                0.009988\n",
       "['Artistic Swimming']                        0.009538\n",
       "['Beach Volleyball']                         0.008639\n",
       "['Rhythmic Gymnastics']                      0.008459\n",
       "['Skateboarding']                            0.007919\n",
       "['Canoe Slalom']                             0.007559\n",
       "['Modern Pentathlon']                        0.006479\n",
       "['Sport Climbing']                           0.006119\n",
       "['Cycling Mountain Bike']                    0.006119\n",
       "['Cycling BMX Racing']                       0.006029\n",
       "['3x3 Basketball']                           0.005759\n",
       "['Surfing']                                  0.004319\n",
       "['Marathon Swimming']                        0.003419\n",
       "['Breaking']                                 0.002969\n",
       "['Trampoline Gymnastics']                    0.002880\n",
       "['Cycling BMX Freestyle']                    0.002160\n",
       "['Marathon Swimming', 'Swimming']            0.001530\n",
       "['Cycling Road', 'Cycling Track']            0.000990\n",
       "['Cycling Road', 'Cycling Mountain Bike']    0.000180\n",
       "[Athletics]                                  0.000180\n",
       "['Cycling Road', 'Triathlon']                0.000090\n",
       "['3x3 Basketball', 'Basketball']             0.000090\n",
       "[Equestrian]                                 0.000090\n",
       "Name: proportion, dtype: float64"
      ]
     },
     "execution_count": 6,
     "metadata": {},
     "output_type": "execute_result"
    }
   ],
   "source": [
    "athletes_df.disciplines.value_counts(normalize=True)"
   ]
  },
  {
   "cell_type": "code",
   "execution_count": 53,
   "metadata": {},
   "outputs": [
    {
     "data": {
      "text/plain": [
       "other_sports\n",
       "Swimming                                                                                                                                                                                                              0.004717\n",
       "Also competes in cycling road                                                                                                                                                                                         0.003774\n",
       "Indoor hockey: Has represented Belgium internationally                                                                                                                                                                0.002830\n",
       "Swam competitively                                                                                                                                                                                                    0.001887\n",
       "Football, athletics                                                                                                                                                                                                   0.001887\n",
       "                                                                                                                                                                                                                        ...   \n",
       "Road cycling: In 2014 he took part in the Tour de Suisse and the Tour de Romandie                                                                                                                                     0.000943\n",
       "Cycling road: Competes for RC Granchen (SUI), and competed in junior European and world championships.</p><p>Cycling mountain bike: Competed in junior European and world championships                               0.000943\n",
       "Judo: Was a regional champion in 2011                                                                                                                                                                                 0.000943\n",
       "Competed in athletics at national level and won the 10,000m national title in Switzerland in 2021. </p><p>In January 2023, he competed in the international 10k road race in Valencia (ESP) where he finished 25th    0.000943\n",
       "Swimming: He was a national champion (butterfly) at cadet level in Algeria                                                                                                                                            0.000943\n",
       "Name: proportion, Length: 1046, dtype: float64"
      ]
     },
     "execution_count": 53,
     "metadata": {},
     "output_type": "execute_result"
    }
   ],
   "source": [
    "athletes_df.other_sports.value_counts(normalize=True)"
   ]
  },
  {
   "cell_type": "code",
   "execution_count": 58,
   "metadata": {},
   "outputs": [
    {
     "data": {
      "text/plain": [
       "ritual\n",
       "Listens to music before competing                                                                                                                                                                                                                                                                                    0.003501\n",
       "He and his Team Miami teammates have a yellow stone good-luck charm that they bought at a gem dealer in Amsterdam. Everyone touches the rock - or one of the other rocks that have been added to the collection - before each game                                                                                   0.003501\n",
       "Praying                                                                                                                                                                                                                                                                                                              0.002334\n",
       "Prays before competition                                                                                                                                                                                                                                                                                             0.002334\n",
       "Does deep breathing exercises before competing                                                                                                                                                                                                                                                                       0.002334\n",
       "                                                                                                                                                                                                                                                                                                                       ...   \n",
       "He listens to Michael Jackson before stepping on to the track. \"Any song works, but I particularly like ‘Can You Feel It’ by the Jackson 5. I bounce around the track singing it in my head and that would get me hyped.” (clemsontigers.com, 2 Mar 2023)                                                            0.001167\n",
       "Maintains a printed planner and a Google planner. “Every single thing I do, I like to cross out.” (intlgymnast.com, 22 Mar 2022)                                                                                                                                                                                     0.001167\n",
       "\"I don’t listen to music behind the blocks or in the ready room because I like to focus on my thoughts and what I’m feeling, and visualise the perfect race.\" (swimmingworldmagazine.com, 2 April 2022)                                                                                                              0.001167\n",
       "She always eats ice cream the night before a race, and eggs on toast for her race day breakfast. She has two sets of lucky racing socks, one given to her by her mother with Canadian flags on them, and one set in bright pink that she initially borrowed from her best friend but was eventually given to keep    0.001167\n",
       "She is a Buddhist                                                                                                                                                                                                                                                                                                    0.001167\n",
       "Name: proportion, Length: 847, dtype: float64"
      ]
     },
     "execution_count": 58,
     "metadata": {},
     "output_type": "execute_result"
    }
   ],
   "source": [
    "athletes_df.ritual.value_counts(normalize=True)"
   ]
  },
  {
   "cell_type": "code",
   "execution_count": 7,
   "metadata": {},
   "outputs": [
    {
     "data": {
      "text/plain": [
       "<Axes: title={'center': 'Weight Distribution of Athletes'}, ylabel='Frequency'>"
      ]
     },
     "execution_count": 7,
     "metadata": {},
     "output_type": "execute_result"
    },
    {
     "data": {
      "image/png": "[encoded data removed]",
      "text/plain": [
       "<Figure size 1000x600 with 1 Axes>"
      ]
     },
     "metadata": {},
     "output_type": "display_data"
    }
   ],
   "source": [
    "athletes_df.weight.plot(kind='hist', title='Weight Distribution of Athletes', figsize=(10, 6))"
   ]
  },
  {
   "cell_type": "code",
   "execution_count": 8,
   "metadata": {},
   "outputs": [
    {
     "data": {
      "text/plain": [
       "weight\n",
       "0.0      0.971552\n",
       "70.0     0.001801\n",
       "65.0     0.001260\n",
       "68.0     0.001260\n",
       "85.0     0.001260\n",
       "90.0     0.001080\n",
       "95.0     0.000900\n",
       "78.0     0.000900\n",
       "64.0     0.000810\n",
       "63.0     0.000810\n",
       "60.0     0.000810\n",
       "74.0     0.000810\n",
       "79.0     0.000810\n",
       "75.0     0.000810\n",
       "92.0     0.000810\n",
       "88.0     0.000720\n",
       "86.0     0.000720\n",
       "67.0     0.000720\n",
       "72.0     0.000720\n",
       "62.0     0.000720\n",
       "76.0     0.000720\n",
       "84.0     0.000630\n",
       "80.0     0.000630\n",
       "98.0     0.000540\n",
       "61.0     0.000540\n",
       "100.0    0.000540\n",
       "89.0     0.000450\n",
       "73.0     0.000450\n",
       "82.0     0.000450\n",
       "69.0     0.000450\n",
       "105.0    0.000360\n",
       "94.0     0.000360\n",
       "91.0     0.000360\n",
       "93.0     0.000360\n",
       "56.0     0.000360\n",
       "77.0     0.000360\n",
       "96.0     0.000270\n",
       "59.0     0.000270\n",
       "87.0     0.000270\n",
       "81.0     0.000270\n",
       "102.0    0.000180\n",
       "83.0     0.000180\n",
       "58.0     0.000180\n",
       "101.0    0.000180\n",
       "66.0     0.000180\n",
       "57.0     0.000180\n",
       "99.0     0.000180\n",
       "106.0    0.000180\n",
       "71.0     0.000090\n",
       "51.0     0.000090\n",
       "52.0     0.000090\n",
       "97.0     0.000090\n",
       "55.0     0.000090\n",
       "54.0     0.000090\n",
       "113.0    0.000090\n",
       "Name: proportion, dtype: float64"
      ]
     },
     "execution_count": 8,
     "metadata": {},
     "output_type": "execute_result"
    }
   ],
   "source": [
    "athletes_df.weight.value_counts(normalize=True)"
   ]
  },
  {
   "cell_type": "code",
   "execution_count": 9,
   "metadata": {},
   "outputs": [
    {
     "data": {
      "text/plain": [
       "<Axes: title={'center': 'Height Distribution of Athletes'}, ylabel='Frequency'>"
      ]
     },
     "execution_count": 9,
     "metadata": {},
     "output_type": "execute_result"
    },
    {
     "data": {
      "image/png": "[encoded data removed]",
      "text/plain": [
       "<Figure size 1000x600 with 1 Axes>"
      ]
     },
     "metadata": {},
     "output_type": "display_data"
    }
   ],
   "source": [
    "athletes_df.height.plot(kind='hist', title='Height Distribution of Athletes', figsize=(10, 6))"
   ]
  },
  {
   "cell_type": "code",
   "execution_count": 10,
   "metadata": {},
   "outputs": [
    {
     "data": {
      "text/plain": [
       "height\n",
       "0.0      0.542934\n",
       "170.0    0.026193\n",
       "180.0    0.022142\n",
       "175.0    0.021332\n",
       "178.0    0.018542\n",
       "           ...   \n",
       "222.0    0.000090\n",
       "151.0    0.000090\n",
       "140.0    0.000090\n",
       "217.0    0.000090\n",
       "214.0    0.000090\n",
       "Name: proportion, Length: 74, dtype: float64"
      ]
     },
     "execution_count": 10,
     "metadata": {},
     "output_type": "execute_result"
    }
   ],
   "source": [
    "athletes_df.height.value_counts(normalize=True)"
   ]
  },
  {
   "cell_type": "code",
   "execution_count": 42,
   "metadata": {},
   "outputs": [
    {
     "data": {
      "text/plain": [
       "weight\n",
       "0.0      0.971552\n",
       "70.0     0.001801\n",
       "65.0     0.001260\n",
       "68.0     0.001260\n",
       "85.0     0.001260\n",
       "90.0     0.001080\n",
       "95.0     0.000900\n",
       "78.0     0.000900\n",
       "64.0     0.000810\n",
       "63.0     0.000810\n",
       "60.0     0.000810\n",
       "74.0     0.000810\n",
       "79.0     0.000810\n",
       "75.0     0.000810\n",
       "92.0     0.000810\n",
       "88.0     0.000720\n",
       "86.0     0.000720\n",
       "67.0     0.000720\n",
       "72.0     0.000720\n",
       "62.0     0.000720\n",
       "76.0     0.000720\n",
       "84.0     0.000630\n",
       "80.0     0.000630\n",
       "98.0     0.000540\n",
       "61.0     0.000540\n",
       "100.0    0.000540\n",
       "89.0     0.000450\n",
       "73.0     0.000450\n",
       "82.0     0.000450\n",
       "69.0     0.000450\n",
       "105.0    0.000360\n",
       "94.0     0.000360\n",
       "91.0     0.000360\n",
       "93.0     0.000360\n",
       "56.0     0.000360\n",
       "77.0     0.000360\n",
       "96.0     0.000270\n",
       "59.0     0.000270\n",
       "87.0     0.000270\n",
       "81.0     0.000270\n",
       "102.0    0.000180\n",
       "83.0     0.000180\n",
       "58.0     0.000180\n",
       "101.0    0.000180\n",
       "66.0     0.000180\n",
       "57.0     0.000180\n",
       "99.0     0.000180\n",
       "106.0    0.000180\n",
       "71.0     0.000090\n",
       "51.0     0.000090\n",
       "52.0     0.000090\n",
       "97.0     0.000090\n",
       "55.0     0.000090\n",
       "54.0     0.000090\n",
       "113.0    0.000090\n",
       "Name: proportion, dtype: float64"
      ]
     },
     "execution_count": 42,
     "metadata": {},
     "output_type": "execute_result"
    }
   ],
   "source": [
    "athletes_df.weight.value_counts(normalize=True)"
   ]
  },
  {
   "cell_type": "code",
   "execution_count": 11,
   "metadata": {},
   "outputs": [],
   "source": [
    "athletes_df.disciplines = athletes_df.disciplines.str.strip(\"[]'\")"
   ]
  },
  {
   "cell_type": "code",
   "execution_count": 34,
   "metadata": {},
   "outputs": [
    {
     "data": {
      "text/plain": [
       "array(['1991-10-21', '1999-01-22', '1996-12-21', ..., '2004-01-21',\n",
       "       '1999-06-19', '1980-11-15'], dtype=object)"
      ]
     },
     "execution_count": 34,
     "metadata": {},
     "output_type": "execute_result"
    }
   ],
   "source": [
    "athletes_df.birth_date.unique()"
   ]
  },
  {
   "cell_type": "code",
   "execution_count": 39,
   "metadata": {},
   "outputs": [
    {
     "data": {
      "text/plain": [
       "0        32\n",
       "1        25\n",
       "2        27\n",
       "3        24\n",
       "4        24\n",
       "         ..\n",
       "11108    21\n",
       "11109    24\n",
       "11110    25\n",
       "11111    43\n",
       "11112    20\n",
       "Name: age, Length: 11113, dtype: int64"
      ]
     },
     "execution_count": 39,
     "metadata": {},
     "output_type": "execute_result"
    }
   ],
   "source": [
    "# creating feature age from differences between birth date and 26 July 2024 (the start of Olympic)\n",
    "from dateutil.relativedelta import relativedelta\n",
    "olympic_start = pd.to_datetime('2024-07-26')\n",
    "athletes_df[\"birth_date\"] = pd.to_datetime(athletes_df[\"birth_date\"])\n",
    "def calculate_age(birth_date_ath, olympic_start):\n",
    "    return abs(relativedelta(olympic_start, birth_date_ath).years)\n",
    "athletes_df['age'] = athletes_df['birth_date'].apply(lambda x:calculate_age(x, olympic_start))\n",
    "athletes_df['age']  "
   ]
  },
  {
   "cell_type": "code",
   "execution_count": 40,
   "metadata": {},
   "outputs": [
    {
     "data": {
      "text/plain": [
       "0                          Gevorg Aleksanyan (ARM), father\n",
       "1                                                      NaN\n",
       "2        Personal: Martin Alekhanyan (ARM).<br>National...\n",
       "3                            National: Habetnak Kurghinyan\n",
       "4                      National: Habetnak Kurghinyan (ARM)\n",
       "                               ...                        \n",
       "11108      Personal: Feliciano Javier y Mananses Mba Micha\n",
       "11109                                                  NaN\n",
       "11110                                                  NaN\n",
       "11111                                                  NaN\n",
       "11112                                                  NaN\n",
       "Name: coach, Length: 11113, dtype: object"
      ]
     },
     "execution_count": 40,
     "metadata": {},
     "output_type": "execute_result"
    }
   ],
   "source": [
    "athletes_df.coach"
   ]
  },
  {
   "cell_type": "code",
   "execution_count": 41,
   "metadata": {},
   "outputs": [
    {
     "data": {
      "text/plain": [
       "5651"
      ]
     },
     "execution_count": 41,
     "metadata": {},
     "output_type": "execute_result"
    }
   ],
   "source": [
    "athletes_df.coach.nunique()"
   ]
  },
  {
   "cell_type": "code",
   "execution_count": 12,
   "metadata": {},
   "outputs": [
    {
     "data": {
      "text/plain": [
       "events\n",
       "['Men']                                                                           0.132997\n",
       "['Women']                                                                         0.124629\n",
       "[\"Men's Individual\"]                                                              0.009268\n",
       "[\"Women's Individual\"]                                                            0.009178\n",
       "[\"Men's Singles\"]                                                                 0.008459\n",
       "                                                                                    ...   \n",
       "[\"Women's Road Race\", \"Women's Individual Time Trial\", \"Women's Team Pursuit\"]    0.000090\n",
       "[\"Men's Omnium\", \"Men's Team Pursuit\"]                                            0.000090\n",
       "[4 x 400m Relay Mixed]                                                            0.000090\n",
       "[Jumping Team]                                                                    0.000090\n",
       "[Men's 4 x 400m Relay]                                                            0.000090\n",
       "Name: proportion, Length: 643, dtype: float64"
      ]
     },
     "execution_count": 12,
     "metadata": {},
     "output_type": "execute_result"
    }
   ],
   "source": [
    "athletes_df.events.value_counts(normalize=True)"
   ]
  },
  {
   "cell_type": "code",
   "execution_count": 52,
   "metadata": {},
   "outputs": [
    {
     "data": {
      "text/plain": [
       "same_country\n",
       "Yes    0.982993\n",
       "No     0.017007\n",
       "Name: proportion, dtype: float64"
      ]
     },
     "execution_count": 52,
     "metadata": {},
     "output_type": "execute_result"
    }
   ],
   "source": [
    "athletes_df['same_country'] = np.where(athletes_df['country'] == athletes_df['nationality'], \"Yes\", 'No') \n",
    "athletes_df['same_country'].value_counts(normalize=True)"
   ]
  },
  {
   "cell_type": "markdown",
   "metadata": {},
   "source": [
    "### Select columns that will be used"
   ]
  },
  {
   "cell_type": "code",
   "execution_count": 14,
   "metadata": {},
   "outputs": [
    {
     "name": "stdout",
     "output_type": "stream",
     "text": [
      "<class 'pandas.core.frame.DataFrame'>\n",
      "Index: 8222 entries, 0 to 11108\n",
      "Data columns (total 13 columns):\n",
      " #   Column            Non-Null Count  Dtype  \n",
      "---  ------            --------------  -----  \n",
      " 0   code              8222 non-null   int64  \n",
      " 1   current           8222 non-null   bool   \n",
      " 2   name              8222 non-null   object \n",
      " 3   gender            8222 non-null   object \n",
      " 4   function          8222 non-null   object \n",
      " 5   country           8222 non-null   object \n",
      " 6   country_code      8222 non-null   object \n",
      " 7   nationality       8222 non-null   object \n",
      " 8   nationality_code  8222 non-null   object \n",
      " 9   height            8222 non-null   float64\n",
      " 10  weight            8222 non-null   float64\n",
      " 11  disciplines       8222 non-null   object \n",
      " 12  coach             8222 non-null   object \n",
      "dtypes: bool(1), float64(2), int64(1), object(9)\n",
      "memory usage: 843.1+ KB\n"
     ]
    }
   ],
   "source": [
    "# select only some columns and drop the row with missing values \n",
    "cols_athlete = ['code', 'current', 'name', 'gender', 'function', 'country', 'country_code', 'nationality', 'nationality_code', 'height', 'weight', 'disciplines', 'coach']\n",
    "athlete_data = athletes_df[cols_athlete].dropna()\n",
    "athlete_data.info()"
   ]
  },
  {
   "cell_type": "code",
   "execution_count": 51,
   "metadata": {},
   "outputs": [
    {
     "data": {
      "text/plain": [
       "same_country\n",
       "Yes             0.982993\n",
       "No              0.017007\n",
       "Name: proportion, dtype: float64"
      ]
     },
     "execution_count": 51,
     "metadata": {},
     "output_type": "execute_result"
    }
   ],
   "source": [
    "import numpy as np\n",
    "athletes_df['same_country'] = pd.DataFrame({\"same_country\" : np.where(athletes_df['country'] == athletes_df['nationality'], \"Yes\", 'No')})\n",
    "aa.value_counts(normalize=True)\n",
    "#athletes_df[athletes_df['country'] == athletes_df['nationality']]"
   ]
  },
  {
   "cell_type": "code",
   "execution_count": 46,
   "metadata": {},
   "outputs": [
    {
     "data": {
      "text/plain": [
       "(11113, 37)"
      ]
     },
     "execution_count": 46,
     "metadata": {},
     "output_type": "execute_result"
    }
   ],
   "source": [
    "athletes_df.shape"
   ]
  },
  {
   "cell_type": "code",
   "execution_count": 15,
   "metadata": {},
   "outputs": [],
   "source": [
    "# save into clean data folder\n",
    "#athlete_data.to_csv('data_clean/athlete_data.csv', index=False)"
   ]
  },
  {
   "cell_type": "markdown",
   "metadata": {},
   "source": [
    "## Total medal dataset"
   ]
  },
  {
   "cell_type": "code",
   "execution_count": 16,
   "metadata": {},
   "outputs": [
    {
     "data": {
      "text/html": [
       "<div>\n",
       "<style scoped>\n",
       "    .dataframe tbody tr th:only-of-type {\n",
       "        vertical-align: middle;\n",
       "    }\n",
       "\n",
       "    .dataframe tbody tr th {\n",
       "        vertical-align: top;\n",
       "    }\n",
       "\n",
       "    .dataframe thead th {\n",
       "        text-align: right;\n",
       "    }\n",
       "</style>\n",
       "<table border=\"1\" class=\"dataframe\">\n",
       "  <thead>\n",
       "    <tr style=\"text-align: right;\">\n",
       "      <th></th>\n",
       "      <th>country_code</th>\n",
       "      <th>country</th>\n",
       "      <th>country_long</th>\n",
       "      <th>Gold Medal</th>\n",
       "      <th>Silver Medal</th>\n",
       "      <th>Bronze Medal</th>\n",
       "      <th>Total</th>\n",
       "    </tr>\n",
       "  </thead>\n",
       "  <tbody>\n",
       "    <tr>\n",
       "      <th>0</th>\n",
       "      <td>USA</td>\n",
       "      <td>United States</td>\n",
       "      <td>United States of America</td>\n",
       "      <td>40</td>\n",
       "      <td>44</td>\n",
       "      <td>42</td>\n",
       "      <td>126</td>\n",
       "    </tr>\n",
       "    <tr>\n",
       "      <th>1</th>\n",
       "      <td>CHN</td>\n",
       "      <td>China</td>\n",
       "      <td>People's Republic of China</td>\n",
       "      <td>40</td>\n",
       "      <td>27</td>\n",
       "      <td>24</td>\n",
       "      <td>91</td>\n",
       "    </tr>\n",
       "    <tr>\n",
       "      <th>2</th>\n",
       "      <td>JPN</td>\n",
       "      <td>Japan</td>\n",
       "      <td>Japan</td>\n",
       "      <td>20</td>\n",
       "      <td>12</td>\n",
       "      <td>13</td>\n",
       "      <td>45</td>\n",
       "    </tr>\n",
       "    <tr>\n",
       "      <th>3</th>\n",
       "      <td>AUS</td>\n",
       "      <td>Australia</td>\n",
       "      <td>Australia</td>\n",
       "      <td>18</td>\n",
       "      <td>19</td>\n",
       "      <td>16</td>\n",
       "      <td>53</td>\n",
       "    </tr>\n",
       "    <tr>\n",
       "      <th>4</th>\n",
       "      <td>FRA</td>\n",
       "      <td>France</td>\n",
       "      <td>France</td>\n",
       "      <td>16</td>\n",
       "      <td>26</td>\n",
       "      <td>22</td>\n",
       "      <td>64</td>\n",
       "    </tr>\n",
       "    <tr>\n",
       "      <th>...</th>\n",
       "      <td>...</td>\n",
       "      <td>...</td>\n",
       "      <td>...</td>\n",
       "      <td>...</td>\n",
       "      <td>...</td>\n",
       "      <td>...</td>\n",
       "      <td>...</td>\n",
       "    </tr>\n",
       "    <tr>\n",
       "      <th>87</th>\n",
       "      <td>PER</td>\n",
       "      <td>Peru</td>\n",
       "      <td>Peru</td>\n",
       "      <td>0</td>\n",
       "      <td>0</td>\n",
       "      <td>1</td>\n",
       "      <td>1</td>\n",
       "    </tr>\n",
       "    <tr>\n",
       "      <th>88</th>\n",
       "      <td>QAT</td>\n",
       "      <td>Qatar</td>\n",
       "      <td>Qatar</td>\n",
       "      <td>0</td>\n",
       "      <td>0</td>\n",
       "      <td>1</td>\n",
       "      <td>1</td>\n",
       "    </tr>\n",
       "    <tr>\n",
       "      <th>89</th>\n",
       "      <td>SGP</td>\n",
       "      <td>Singapore</td>\n",
       "      <td>Singapore</td>\n",
       "      <td>0</td>\n",
       "      <td>0</td>\n",
       "      <td>1</td>\n",
       "      <td>1</td>\n",
       "    </tr>\n",
       "    <tr>\n",
       "      <th>90</th>\n",
       "      <td>SVK</td>\n",
       "      <td>Slovakia</td>\n",
       "      <td>Slovakia</td>\n",
       "      <td>0</td>\n",
       "      <td>0</td>\n",
       "      <td>1</td>\n",
       "      <td>1</td>\n",
       "    </tr>\n",
       "    <tr>\n",
       "      <th>91</th>\n",
       "      <td>ZAM</td>\n",
       "      <td>Zambia</td>\n",
       "      <td>Zambia</td>\n",
       "      <td>0</td>\n",
       "      <td>0</td>\n",
       "      <td>1</td>\n",
       "      <td>1</td>\n",
       "    </tr>\n",
       "  </tbody>\n",
       "</table>\n",
       "<p>92 rows × 7 columns</p>\n",
       "</div>"
      ],
      "text/plain": [
       "   country_code        country                country_long  Gold Medal  \\\n",
       "0           USA  United States    United States of America          40   \n",
       "1           CHN          China  People's Republic of China          40   \n",
       "2           JPN          Japan                       Japan          20   \n",
       "3           AUS      Australia                   Australia          18   \n",
       "4           FRA         France                      France          16   \n",
       "..          ...            ...                         ...         ...   \n",
       "87          PER           Peru                        Peru           0   \n",
       "88          QAT          Qatar                       Qatar           0   \n",
       "89          SGP      Singapore                   Singapore           0   \n",
       "90          SVK       Slovakia                    Slovakia           0   \n",
       "91          ZAM         Zambia                      Zambia           0   \n",
       "\n",
       "    Silver Medal  Bronze Medal  Total  \n",
       "0             44            42    126  \n",
       "1             27            24     91  \n",
       "2             12            13     45  \n",
       "3             19            16     53  \n",
       "4             26            22     64  \n",
       "..           ...           ...    ...  \n",
       "87             0             1      1  \n",
       "88             0             1      1  \n",
       "89             0             1      1  \n",
       "90             0             1      1  \n",
       "91             0             1      1  \n",
       "\n",
       "[92 rows x 7 columns]"
      ]
     },
     "execution_count": 16,
     "metadata": {},
     "output_type": "execute_result"
    }
   ],
   "source": [
    "medal_total_df = pd.read_csv('./data/medals_total.csv')\n",
    "medal_total_df"
   ]
  },
  {
   "cell_type": "code",
   "execution_count": 17,
   "metadata": {},
   "outputs": [
    {
     "name": "stdout",
     "output_type": "stream",
     "text": [
      "<class 'pandas.core.frame.DataFrame'>\n",
      "RangeIndex: 92 entries, 0 to 91\n",
      "Data columns (total 7 columns):\n",
      " #   Column        Non-Null Count  Dtype \n",
      "---  ------        --------------  ----- \n",
      " 0   country_code  92 non-null     object\n",
      " 1   country       92 non-null     object\n",
      " 2   country_long  92 non-null     object\n",
      " 3   Gold Medal    92 non-null     int64 \n",
      " 4   Silver Medal  92 non-null     int64 \n",
      " 5   Bronze Medal  92 non-null     int64 \n",
      " 6   Total         92 non-null     int64 \n",
      "dtypes: int64(4), object(3)\n",
      "memory usage: 5.2+ KB\n"
     ]
    }
   ],
   "source": [
    "medal_total_df.info()"
   ]
  },
  {
   "cell_type": "markdown",
   "metadata": {},
   "source": [
    "## Medallist dataset"
   ]
  },
  {
   "cell_type": "code",
   "execution_count": 18,
   "metadata": {},
   "outputs": [
    {
     "data": {
      "text/html": [
       "<div>\n",
       "<style scoped>\n",
       "    .dataframe tbody tr th:only-of-type {\n",
       "        vertical-align: middle;\n",
       "    }\n",
       "\n",
       "    .dataframe tbody tr th {\n",
       "        vertical-align: top;\n",
       "    }\n",
       "\n",
       "    .dataframe thead th {\n",
       "        text-align: right;\n",
       "    }\n",
       "</style>\n",
       "<table border=\"1\" class=\"dataframe\">\n",
       "  <thead>\n",
       "    <tr style=\"text-align: right;\">\n",
       "      <th></th>\n",
       "      <th>medal_date</th>\n",
       "      <th>medal_type</th>\n",
       "      <th>medal_code</th>\n",
       "      <th>name</th>\n",
       "      <th>gender</th>\n",
       "      <th>country_code</th>\n",
       "      <th>country</th>\n",
       "      <th>country_long</th>\n",
       "      <th>nationality_code</th>\n",
       "      <th>nationality</th>\n",
       "      <th>...</th>\n",
       "      <th>team</th>\n",
       "      <th>team_gender</th>\n",
       "      <th>discipline</th>\n",
       "      <th>event</th>\n",
       "      <th>event_type</th>\n",
       "      <th>url_event</th>\n",
       "      <th>birth_date</th>\n",
       "      <th>code_athlete</th>\n",
       "      <th>code_team</th>\n",
       "      <th>is_medallist</th>\n",
       "    </tr>\n",
       "  </thead>\n",
       "  <tbody>\n",
       "    <tr>\n",
       "      <th>0</th>\n",
       "      <td>2024-07-27</td>\n",
       "      <td>Gold Medal</td>\n",
       "      <td>1.0</td>\n",
       "      <td>EVENEPOEL Remco</td>\n",
       "      <td>Male</td>\n",
       "      <td>BEL</td>\n",
       "      <td>Belgium</td>\n",
       "      <td>Belgium</td>\n",
       "      <td>BEL</td>\n",
       "      <td>Belgium</td>\n",
       "      <td>...</td>\n",
       "      <td>NaN</td>\n",
       "      <td>NaN</td>\n",
       "      <td>Cycling Road</td>\n",
       "      <td>Men's Individual Time Trial</td>\n",
       "      <td>ATH</td>\n",
       "      <td>/en/paris-2024/results/cycling-road/men-s-indi...</td>\n",
       "      <td>2000-01-25</td>\n",
       "      <td>1903136</td>\n",
       "      <td>NaN</td>\n",
       "      <td>True</td>\n",
       "    </tr>\n",
       "    <tr>\n",
       "      <th>1</th>\n",
       "      <td>2024-07-27</td>\n",
       "      <td>Silver Medal</td>\n",
       "      <td>2.0</td>\n",
       "      <td>GANNA Filippo</td>\n",
       "      <td>Male</td>\n",
       "      <td>ITA</td>\n",
       "      <td>Italy</td>\n",
       "      <td>Italy</td>\n",
       "      <td>ITA</td>\n",
       "      <td>Italy</td>\n",
       "      <td>...</td>\n",
       "      <td>NaN</td>\n",
       "      <td>NaN</td>\n",
       "      <td>Cycling Road</td>\n",
       "      <td>Men's Individual Time Trial</td>\n",
       "      <td>ATH</td>\n",
       "      <td>/en/paris-2024/results/cycling-road/men-s-indi...</td>\n",
       "      <td>1996-07-25</td>\n",
       "      <td>1923520</td>\n",
       "      <td>NaN</td>\n",
       "      <td>True</td>\n",
       "    </tr>\n",
       "    <tr>\n",
       "      <th>2</th>\n",
       "      <td>2024-07-27</td>\n",
       "      <td>Bronze Medal</td>\n",
       "      <td>3.0</td>\n",
       "      <td>van AERT Wout</td>\n",
       "      <td>Male</td>\n",
       "      <td>BEL</td>\n",
       "      <td>Belgium</td>\n",
       "      <td>Belgium</td>\n",
       "      <td>BEL</td>\n",
       "      <td>Belgium</td>\n",
       "      <td>...</td>\n",
       "      <td>NaN</td>\n",
       "      <td>NaN</td>\n",
       "      <td>Cycling Road</td>\n",
       "      <td>Men's Individual Time Trial</td>\n",
       "      <td>ATH</td>\n",
       "      <td>/en/paris-2024/results/cycling-road/men-s-indi...</td>\n",
       "      <td>1994-09-15</td>\n",
       "      <td>1903147</td>\n",
       "      <td>NaN</td>\n",
       "      <td>True</td>\n",
       "    </tr>\n",
       "    <tr>\n",
       "      <th>3</th>\n",
       "      <td>2024-07-27</td>\n",
       "      <td>Gold Medal</td>\n",
       "      <td>1.0</td>\n",
       "      <td>BROWN Grace</td>\n",
       "      <td>Female</td>\n",
       "      <td>AUS</td>\n",
       "      <td>Australia</td>\n",
       "      <td>Australia</td>\n",
       "      <td>AUS</td>\n",
       "      <td>Australia</td>\n",
       "      <td>...</td>\n",
       "      <td>NaN</td>\n",
       "      <td>NaN</td>\n",
       "      <td>Cycling Road</td>\n",
       "      <td>Women's Individual Time Trial</td>\n",
       "      <td>ATH</td>\n",
       "      <td>/en/paris-2024/results/cycling-road/women-s-in...</td>\n",
       "      <td>1992-07-07</td>\n",
       "      <td>1940173</td>\n",
       "      <td>NaN</td>\n",
       "      <td>True</td>\n",
       "    </tr>\n",
       "    <tr>\n",
       "      <th>4</th>\n",
       "      <td>2024-07-27</td>\n",
       "      <td>Silver Medal</td>\n",
       "      <td>2.0</td>\n",
       "      <td>HENDERSON Anna</td>\n",
       "      <td>Female</td>\n",
       "      <td>GBR</td>\n",
       "      <td>Great Britain</td>\n",
       "      <td>Great Britain</td>\n",
       "      <td>GBR</td>\n",
       "      <td>Great Britain</td>\n",
       "      <td>...</td>\n",
       "      <td>NaN</td>\n",
       "      <td>NaN</td>\n",
       "      <td>Cycling Road</td>\n",
       "      <td>Women's Individual Time Trial</td>\n",
       "      <td>ATH</td>\n",
       "      <td>/en/paris-2024/results/cycling-road/women-s-in...</td>\n",
       "      <td>1998-11-14</td>\n",
       "      <td>1912525</td>\n",
       "      <td>NaN</td>\n",
       "      <td>True</td>\n",
       "    </tr>\n",
       "  </tbody>\n",
       "</table>\n",
       "<p>5 rows × 21 columns</p>\n",
       "</div>"
      ],
      "text/plain": [
       "   medal_date    medal_type  medal_code             name  gender country_code  \\\n",
       "0  2024-07-27    Gold Medal         1.0  EVENEPOEL Remco    Male          BEL   \n",
       "1  2024-07-27  Silver Medal         2.0    GANNA Filippo    Male          ITA   \n",
       "2  2024-07-27  Bronze Medal         3.0    van AERT Wout    Male          BEL   \n",
       "3  2024-07-27    Gold Medal         1.0      BROWN Grace  Female          AUS   \n",
       "4  2024-07-27  Silver Medal         2.0   HENDERSON Anna  Female          GBR   \n",
       "\n",
       "         country   country_long nationality_code    nationality  ... team  \\\n",
       "0        Belgium        Belgium              BEL        Belgium  ...  NaN   \n",
       "1          Italy          Italy              ITA          Italy  ...  NaN   \n",
       "2        Belgium        Belgium              BEL        Belgium  ...  NaN   \n",
       "3      Australia      Australia              AUS      Australia  ...  NaN   \n",
       "4  Great Britain  Great Britain              GBR  Great Britain  ...  NaN   \n",
       "\n",
       "  team_gender    discipline                          event event_type  \\\n",
       "0         NaN  Cycling Road    Men's Individual Time Trial        ATH   \n",
       "1         NaN  Cycling Road    Men's Individual Time Trial        ATH   \n",
       "2         NaN  Cycling Road    Men's Individual Time Trial        ATH   \n",
       "3         NaN  Cycling Road  Women's Individual Time Trial        ATH   \n",
       "4         NaN  Cycling Road  Women's Individual Time Trial        ATH   \n",
       "\n",
       "                                           url_event  birth_date code_athlete  \\\n",
       "0  /en/paris-2024/results/cycling-road/men-s-indi...  2000-01-25      1903136   \n",
       "1  /en/paris-2024/results/cycling-road/men-s-indi...  1996-07-25      1923520   \n",
       "2  /en/paris-2024/results/cycling-road/men-s-indi...  1994-09-15      1903147   \n",
       "3  /en/paris-2024/results/cycling-road/women-s-in...  1992-07-07      1940173   \n",
       "4  /en/paris-2024/results/cycling-road/women-s-in...  1998-11-14      1912525   \n",
       "\n",
       "   code_team is_medallist  \n",
       "0        NaN         True  \n",
       "1        NaN         True  \n",
       "2        NaN         True  \n",
       "3        NaN         True  \n",
       "4        NaN         True  \n",
       "\n",
       "[5 rows x 21 columns]"
      ]
     },
     "execution_count": 18,
     "metadata": {},
     "output_type": "execute_result"
    }
   ],
   "source": [
    "medallist_df = pd.read_csv('./data/medallists.csv')\n",
    "medallist_df.head()"
   ]
  },
  {
   "cell_type": "code",
   "execution_count": 19,
   "metadata": {},
   "outputs": [
    {
     "name": "stdout",
     "output_type": "stream",
     "text": [
      "<class 'pandas.core.frame.DataFrame'>\n",
      "RangeIndex: 2315 entries, 0 to 2314\n",
      "Data columns (total 21 columns):\n",
      " #   Column            Non-Null Count  Dtype  \n",
      "---  ------            --------------  -----  \n",
      " 0   medal_date        2315 non-null   object \n",
      " 1   medal_type        2315 non-null   object \n",
      " 2   medal_code        2314 non-null   float64\n",
      " 3   name              2315 non-null   object \n",
      " 4   gender            2315 non-null   object \n",
      " 5   country_code      2315 non-null   object \n",
      " 6   country           2315 non-null   object \n",
      " 7   country_long      2315 non-null   object \n",
      " 8   nationality_code  2314 non-null   object \n",
      " 9   nationality       2314 non-null   object \n",
      " 10  nationality_long  2314 non-null   object \n",
      " 11  team              1555 non-null   object \n",
      " 12  team_gender       1555 non-null   object \n",
      " 13  discipline        2315 non-null   object \n",
      " 14  event             2315 non-null   object \n",
      " 15  event_type        2315 non-null   object \n",
      " 16  url_event         2294 non-null   object \n",
      " 17  birth_date        2315 non-null   object \n",
      " 18  code_athlete      2315 non-null   int64  \n",
      " 19  code_team         1555 non-null   object \n",
      " 20  is_medallist      2315 non-null   bool   \n",
      "dtypes: bool(1), float64(1), int64(1), object(18)\n",
      "memory usage: 364.1+ KB\n"
     ]
    }
   ],
   "source": [
    "medallist_df.info()"
   ]
  },
  {
   "cell_type": "code",
   "execution_count": 20,
   "metadata": {},
   "outputs": [],
   "source": [
    "medallist_df.medal_type = medallist_df.medal_type.str.replace(\"Medal\", \"\")"
   ]
  },
  {
   "cell_type": "code",
   "execution_count": 21,
   "metadata": {},
   "outputs": [
    {
     "data": {
      "text/html": [
       "<div>\n",
       "<style scoped>\n",
       "    .dataframe tbody tr th:only-of-type {\n",
       "        vertical-align: middle;\n",
       "    }\n",
       "\n",
       "    .dataframe tbody tr th {\n",
       "        vertical-align: top;\n",
       "    }\n",
       "\n",
       "    .dataframe thead th {\n",
       "        text-align: right;\n",
       "    }\n",
       "</style>\n",
       "<table border=\"1\" class=\"dataframe\">\n",
       "  <thead>\n",
       "    <tr style=\"text-align: right;\">\n",
       "      <th></th>\n",
       "      <th>medal_date</th>\n",
       "      <th>medal_type</th>\n",
       "      <th>medal_code</th>\n",
       "      <th>name</th>\n",
       "      <th>gender</th>\n",
       "      <th>country_code</th>\n",
       "      <th>country</th>\n",
       "      <th>country_long</th>\n",
       "      <th>nationality_code</th>\n",
       "      <th>nationality</th>\n",
       "      <th>...</th>\n",
       "      <th>team</th>\n",
       "      <th>team_gender</th>\n",
       "      <th>discipline</th>\n",
       "      <th>event</th>\n",
       "      <th>event_type</th>\n",
       "      <th>url_event</th>\n",
       "      <th>birth_date</th>\n",
       "      <th>code_athlete</th>\n",
       "      <th>code_team</th>\n",
       "      <th>is_medallist</th>\n",
       "    </tr>\n",
       "  </thead>\n",
       "  <tbody>\n",
       "    <tr>\n",
       "      <th>324</th>\n",
       "      <td>2024-08-04</td>\n",
       "      <td>Bronze</td>\n",
       "      <td>NaN</td>\n",
       "      <td>TUNJUNG Gregoria Mariska</td>\n",
       "      <td>Female</td>\n",
       "      <td>INA</td>\n",
       "      <td>Indonesia</td>\n",
       "      <td>Indonesia</td>\n",
       "      <td>INA</td>\n",
       "      <td>Indonesia</td>\n",
       "      <td>...</td>\n",
       "      <td>NaN</td>\n",
       "      <td>NaN</td>\n",
       "      <td>Badminton</td>\n",
       "      <td>Women's Singles</td>\n",
       "      <td>HATH</td>\n",
       "      <td>/en/paris-2024/results/badminton/women-s-singl...</td>\n",
       "      <td>1999-08-11</td>\n",
       "      <td>1926315</td>\n",
       "      <td>NaN</td>\n",
       "      <td>True</td>\n",
       "    </tr>\n",
       "  </tbody>\n",
       "</table>\n",
       "<p>1 rows × 21 columns</p>\n",
       "</div>"
      ],
      "text/plain": [
       "     medal_date medal_type  medal_code                      name  gender  \\\n",
       "324  2024-08-04    Bronze          NaN  TUNJUNG Gregoria Mariska  Female   \n",
       "\n",
       "    country_code    country country_long nationality_code nationality  ...  \\\n",
       "324          INA  Indonesia    Indonesia              INA   Indonesia  ...   \n",
       "\n",
       "    team team_gender discipline            event event_type  \\\n",
       "324  NaN         NaN  Badminton  Women's Singles       HATH   \n",
       "\n",
       "                                             url_event  birth_date  \\\n",
       "324  /en/paris-2024/results/badminton/women-s-singl...  1999-08-11   \n",
       "\n",
       "    code_athlete  code_team is_medallist  \n",
       "324      1926315        NaN         True  \n",
       "\n",
       "[1 rows x 21 columns]"
      ]
     },
     "execution_count": 21,
     "metadata": {},
     "output_type": "execute_result"
    }
   ],
   "source": [
    "medallist_df[medallist_df.medal_code.isnull()] "
   ]
  },
  {
   "cell_type": "code",
   "execution_count": 22,
   "metadata": {},
   "outputs": [],
   "source": [
    "medallist_df.medal_code = medallist_df.medal_code.fillna(3.0).astype(int)"
   ]
  },
  {
   "cell_type": "code",
   "execution_count": 23,
   "metadata": {},
   "outputs": [
    {
     "name": "stdout",
     "output_type": "stream",
     "text": [
      "<class 'pandas.core.frame.DataFrame'>\n",
      "RangeIndex: 2315 entries, 0 to 2314\n",
      "Data columns (total 9 columns):\n",
      " #   Column        Non-Null Count  Dtype \n",
      "---  ------        --------------  ----- \n",
      " 0   medal_type    2315 non-null   object\n",
      " 1   name          2315 non-null   object\n",
      " 2   gender        2315 non-null   object\n",
      " 3   country_code  2315 non-null   object\n",
      " 4   nationality   2314 non-null   object\n",
      " 5   discipline    2315 non-null   object\n",
      " 6   birth_date    2315 non-null   object\n",
      " 7   is_medallist  2315 non-null   bool  \n",
      " 8   code_athlete  2315 non-null   int64 \n",
      "dtypes: bool(1), int64(1), object(7)\n",
      "memory usage: 147.1+ KB\n"
     ]
    }
   ],
   "source": [
    "medal_cols = ['medal_type', 'name', 'gender', 'country_code', 'nationality', 'discipline', 'birth_date', 'is_medallist', 'code_athlete']\n",
    "medallist_data = medallist_df[medal_cols]\n",
    "medallist_data.info()"
   ]
  },
  {
   "cell_type": "code",
   "execution_count": 24,
   "metadata": {},
   "outputs": [
    {
     "data": {
      "text/html": [
       "<div>\n",
       "<style scoped>\n",
       "    .dataframe tbody tr th:only-of-type {\n",
       "        vertical-align: middle;\n",
       "    }\n",
       "\n",
       "    .dataframe tbody tr th {\n",
       "        vertical-align: top;\n",
       "    }\n",
       "\n",
       "    .dataframe thead th {\n",
       "        text-align: right;\n",
       "    }\n",
       "</style>\n",
       "<table border=\"1\" class=\"dataframe\">\n",
       "  <thead>\n",
       "    <tr style=\"text-align: right;\">\n",
       "      <th></th>\n",
       "      <th>medal_type</th>\n",
       "      <th>name</th>\n",
       "      <th>gender</th>\n",
       "      <th>country_code</th>\n",
       "      <th>nationality</th>\n",
       "      <th>discipline</th>\n",
       "      <th>birth_date</th>\n",
       "      <th>is_medallist</th>\n",
       "      <th>code_athlete</th>\n",
       "    </tr>\n",
       "  </thead>\n",
       "  <tbody>\n",
       "    <tr>\n",
       "      <th>1819</th>\n",
       "      <td>Gold</td>\n",
       "      <td>SANDERS Pien</td>\n",
       "      <td>Female</td>\n",
       "      <td>NED</td>\n",
       "      <td>NaN</td>\n",
       "      <td>Hockey</td>\n",
       "      <td>1998-06-11</td>\n",
       "      <td>True</td>\n",
       "      <td>1971965</td>\n",
       "    </tr>\n",
       "  </tbody>\n",
       "</table>\n",
       "</div>"
      ],
      "text/plain": [
       "     medal_type          name  gender country_code nationality discipline  \\\n",
       "1819      Gold   SANDERS Pien  Female          NED         NaN     Hockey   \n",
       "\n",
       "      birth_date  is_medallist  code_athlete  \n",
       "1819  1998-06-11          True       1971965  "
      ]
     },
     "execution_count": 24,
     "metadata": {},
     "output_type": "execute_result"
    }
   ],
   "source": [
    "medallist_data[medallist_data.nationality.isnull()]"
   ]
  },
  {
   "cell_type": "code",
   "execution_count": 25,
   "metadata": {},
   "outputs": [],
   "source": [
    "medallist_data.loc[1819, 'nationality'] = 'Netherlands' "
   ]
  },
  {
   "cell_type": "code",
   "execution_count": 26,
   "metadata": {},
   "outputs": [],
   "source": [
    "# save to csv\n",
    "#medallist_data.to_csv('data_clean/medallist_clean.csv', index=False)"
   ]
  },
  {
   "cell_type": "markdown",
   "metadata": {},
   "source": [
    "## Coach dataset"
   ]
  },
  {
   "cell_type": "code",
   "execution_count": 27,
   "metadata": {},
   "outputs": [
    {
     "data": {
      "text/html": [
       "<div>\n",
       "<style scoped>\n",
       "    .dataframe tbody tr th:only-of-type {\n",
       "        vertical-align: middle;\n",
       "    }\n",
       "\n",
       "    .dataframe tbody tr th {\n",
       "        vertical-align: top;\n",
       "    }\n",
       "\n",
       "    .dataframe thead th {\n",
       "        text-align: right;\n",
       "    }\n",
       "</style>\n",
       "<table border=\"1\" class=\"dataframe\">\n",
       "  <thead>\n",
       "    <tr style=\"text-align: right;\">\n",
       "      <th></th>\n",
       "      <th>code</th>\n",
       "      <th>current</th>\n",
       "      <th>name</th>\n",
       "      <th>gender</th>\n",
       "      <th>function</th>\n",
       "      <th>category</th>\n",
       "      <th>country_code</th>\n",
       "      <th>country</th>\n",
       "      <th>country_long</th>\n",
       "      <th>disciplines</th>\n",
       "      <th>events</th>\n",
       "      <th>birth_date</th>\n",
       "    </tr>\n",
       "  </thead>\n",
       "  <tbody>\n",
       "    <tr>\n",
       "      <th>0</th>\n",
       "      <td>1533246</td>\n",
       "      <td>True</td>\n",
       "      <td>PEDRERO Ofelia</td>\n",
       "      <td>Female</td>\n",
       "      <td>Coach</td>\n",
       "      <td>C</td>\n",
       "      <td>MEX</td>\n",
       "      <td>Mexico</td>\n",
       "      <td>Mexico</td>\n",
       "      <td>Artistic Swimming</td>\n",
       "      <td>Team</td>\n",
       "      <td>1988-03-28</td>\n",
       "    </tr>\n",
       "    <tr>\n",
       "      <th>1</th>\n",
       "      <td>1535775</td>\n",
       "      <td>True</td>\n",
       "      <td>RADHI SHENAISHIL</td>\n",
       "      <td>Male</td>\n",
       "      <td>Head Coach</td>\n",
       "      <td>C</td>\n",
       "      <td>IRQ</td>\n",
       "      <td>Iraq</td>\n",
       "      <td>Iraq</td>\n",
       "      <td>Football</td>\n",
       "      <td>Men</td>\n",
       "      <td>1965-07-01</td>\n",
       "    </tr>\n",
       "    <tr>\n",
       "      <th>2</th>\n",
       "      <td>1536055</td>\n",
       "      <td>True</td>\n",
       "      <td>AFLAKIKHAMSEH Majid</td>\n",
       "      <td>Male</td>\n",
       "      <td>Coach</td>\n",
       "      <td>C</td>\n",
       "      <td>IRI</td>\n",
       "      <td>IR Iran</td>\n",
       "      <td>Islamic Republic of Iran</td>\n",
       "      <td>Taekwondo</td>\n",
       "      <td>NaN</td>\n",
       "      <td>1973-08-26</td>\n",
       "    </tr>\n",
       "    <tr>\n",
       "      <th>3</th>\n",
       "      <td>1536059</td>\n",
       "      <td>True</td>\n",
       "      <td>YOUSEFY Mehrdad</td>\n",
       "      <td>Male</td>\n",
       "      <td>Coach</td>\n",
       "      <td>C</td>\n",
       "      <td>IRI</td>\n",
       "      <td>IR Iran</td>\n",
       "      <td>Islamic Republic of Iran</td>\n",
       "      <td>Taekwondo</td>\n",
       "      <td>NaN</td>\n",
       "      <td>1972-06-12</td>\n",
       "    </tr>\n",
       "    <tr>\n",
       "      <th>4</th>\n",
       "      <td>1536060</td>\n",
       "      <td>True</td>\n",
       "      <td>MADDAH Minoo</td>\n",
       "      <td>Female</td>\n",
       "      <td>Coach</td>\n",
       "      <td>C</td>\n",
       "      <td>IRI</td>\n",
       "      <td>IR Iran</td>\n",
       "      <td>Islamic Republic of Iran</td>\n",
       "      <td>Taekwondo</td>\n",
       "      <td>NaN</td>\n",
       "      <td>1976-05-17</td>\n",
       "    </tr>\n",
       "  </tbody>\n",
       "</table>\n",
       "</div>"
      ],
      "text/plain": [
       "      code  current                 name  gender    function category  \\\n",
       "0  1533246     True       PEDRERO Ofelia  Female       Coach        C   \n",
       "1  1535775     True     RADHI SHENAISHIL    Male  Head Coach        C   \n",
       "2  1536055     True  AFLAKIKHAMSEH Majid    Male       Coach        C   \n",
       "3  1536059     True      YOUSEFY Mehrdad    Male       Coach        C   \n",
       "4  1536060     True         MADDAH Minoo  Female       Coach        C   \n",
       "\n",
       "  country_code  country              country_long        disciplines events  \\\n",
       "0          MEX   Mexico                    Mexico  Artistic Swimming   Team   \n",
       "1          IRQ     Iraq                      Iraq           Football    Men   \n",
       "2          IRI  IR Iran  Islamic Republic of Iran          Taekwondo    NaN   \n",
       "3          IRI  IR Iran  Islamic Republic of Iran          Taekwondo    NaN   \n",
       "4          IRI  IR Iran  Islamic Republic of Iran          Taekwondo    NaN   \n",
       "\n",
       "   birth_date  \n",
       "0  1988-03-28  \n",
       "1  1965-07-01  \n",
       "2  1973-08-26  \n",
       "3  1972-06-12  \n",
       "4  1976-05-17  "
      ]
     },
     "execution_count": 27,
     "metadata": {},
     "output_type": "execute_result"
    }
   ],
   "source": [
    "coach_df = pd.read_csv('./data/coaches.csv') \n",
    "coach_df.head()"
   ]
  },
  {
   "cell_type": "code",
   "execution_count": 28,
   "metadata": {},
   "outputs": [
    {
     "name": "stdout",
     "output_type": "stream",
     "text": [
      "<class 'pandas.core.frame.DataFrame'>\n",
      "RangeIndex: 974 entries, 0 to 973\n",
      "Data columns (total 12 columns):\n",
      " #   Column        Non-Null Count  Dtype \n",
      "---  ------        --------------  ----- \n",
      " 0   code          974 non-null    int64 \n",
      " 1   current       974 non-null    bool  \n",
      " 2   name          974 non-null    object\n",
      " 3   gender        974 non-null    object\n",
      " 4   function      974 non-null    object\n",
      " 5   category      974 non-null    object\n",
      " 6   country_code  974 non-null    object\n",
      " 7   country       974 non-null    object\n",
      " 8   country_long  974 non-null    object\n",
      " 9   disciplines   974 non-null    object\n",
      " 10  events        418 non-null    object\n",
      " 11  birth_date    936 non-null    object\n",
      "dtypes: bool(1), int64(1), object(10)\n",
      "memory usage: 84.8+ KB\n"
     ]
    }
   ],
   "source": [
    "coach_df.info()"
   ]
  },
  {
   "cell_type": "code",
   "execution_count": 29,
   "metadata": {},
   "outputs": [
    {
     "data": {
      "text/plain": [
       "current\n",
       "True    1.0\n",
       "Name: proportion, dtype: float64"
      ]
     },
     "execution_count": 29,
     "metadata": {},
     "output_type": "execute_result"
    }
   ],
   "source": [
    "coach_df.current.value_counts(normalize=True)"
   ]
  },
  {
   "cell_type": "code",
   "execution_count": 30,
   "metadata": {},
   "outputs": [
    {
     "data": {
      "text/plain": [
       "category\n",
       "C    1.0\n",
       "Name: proportion, dtype: float64"
      ]
     },
     "execution_count": 30,
     "metadata": {},
     "output_type": "execute_result"
    }
   ],
   "source": [
    "coach_df.category.value_counts(normalize=True)"
   ]
  },
  {
   "cell_type": "code",
   "execution_count": 31,
   "metadata": {},
   "outputs": [
    {
     "data": {
      "text/plain": [
       "category\n",
       "C    1.0\n",
       "Name: proportion, dtype: float64"
      ]
     },
     "execution_count": 31,
     "metadata": {},
     "output_type": "execute_result"
    }
   ],
   "source": [
    "coach_df.category.value_counts(normalize=True)"
   ]
  },
  {
   "cell_type": "code",
   "execution_count": 32,
   "metadata": {},
   "outputs": [
    {
     "name": "stdout",
     "output_type": "stream",
     "text": [
      "<class 'pandas.core.frame.DataFrame'>\n",
      "RangeIndex: 974 entries, 0 to 973\n",
      "Data columns (total 8 columns):\n",
      " #   Column        Non-Null Count  Dtype \n",
      "---  ------        --------------  ----- \n",
      " 0   current       974 non-null    bool  \n",
      " 1   name          974 non-null    object\n",
      " 2   gender        974 non-null    object\n",
      " 3   function      974 non-null    object\n",
      " 4   category      974 non-null    object\n",
      " 5   country_code  974 non-null    object\n",
      " 6   country       974 non-null    object\n",
      " 7   disciplines   974 non-null    object\n",
      "dtypes: bool(1), object(7)\n",
      "memory usage: 54.3+ KB\n"
     ]
    }
   ],
   "source": [
    "coach_cols = ['current', 'name', 'gender', 'function', 'category', 'country_code', 'country', 'disciplines']\n",
    "coach_data = coach_df[coach_cols]\n",
    "coach_data.info()"
   ]
  },
  {
   "cell_type": "code",
   "execution_count": 33,
   "metadata": {},
   "outputs": [],
   "source": [
    "# save to csv \n",
    "#coach_data.to_csv('data_clean/coach_clean.csv')"
   ]
  }
 ],
 "metadata": {
  "kernelspec": {
   "display_name": "venv",
   "language": "python",
   "name": "python3"
  },
  "language_info": {
   "codemirror_mode": {
    "name": "ipython",
    "version": 3
   },
   "file_extension": ".py",
   "mimetype": "text/x-python",
   "name": "python",
   "nbconvert_exporter": "python",
   "pygments_lexer": "ipython3",
   "version": "3.9.13"
  }
 },
 "nbformat": 4,
 "nbformat_minor": 2
}
